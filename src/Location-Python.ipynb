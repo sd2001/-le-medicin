{
 "cells": [
  {
   "cell_type": "code",
   "execution_count": 3,
   "metadata": {},
   "outputs": [],
   "source": [
    "import geocoder"
   ]
  },
  {
   "cell_type": "code",
   "execution_count": 4,
   "metadata": {},
   "outputs": [
    {
     "name": "stdout",
     "output_type": "stream",
     "text": [
      "[22.5626, 88.363]\n",
      "[22.5626, 88.363]\n"
     ]
    },
    {
     "data": {
      "text/plain": [
       "float"
      ]
     },
     "execution_count": 4,
     "metadata": {},
     "output_type": "execute_result"
    }
   ],
   "source": [
    "ipad=geocoder.ip('me')\n",
    "a=ipad.latlng\n",
    "print(ipad.latlng)\n",
    "print(a)\n",
    "type(a[0])"
   ]
  },
  {
   "cell_type": "code",
   "execution_count": 5,
   "metadata": {},
   "outputs": [
    {
     "data": {
      "text/plain": [
       "'Saltlake,[Kolkata, West Bengal, IN]'"
      ]
     },
     "execution_count": 5,
     "metadata": {},
     "output_type": "execute_result"
    }
   ],
   "source": [
    "\n",
    "l=\"Saltlake,\"+str(ipad[0])\n",
    "l\n"
   ]
  },
  {
   "cell_type": "code",
   "execution_count": 6,
   "metadata": {},
   "outputs": [
    {
     "name": "stdout",
     "output_type": "stream",
     "text": [
      "Bangur Avenue\n",
      "Bangur Avenue,[Kolkata, West Bengal, IN]\n"
     ]
    }
   ],
   "source": [
    "from serpwow.google_search_results import GoogleSearchResults\n",
    "import json\n",
    "import geocoder\n",
    "g = geocoder.ip('me')\n",
    "a=g.latlng\n",
    "\n",
    "# create the serpwow object, passing in our API key\n",
    "serpwow = GoogleSearchResults(\"883CB6B9970E4AE1858E3381DF8F0674\")\n",
    "place=input()\n",
    "q=\"Good Medical shops near \"+place\n",
    "l=place+\",\"+str(ipad[0])\n",
    "# set up a dict for the query (q) and location parameters\n",
    "# note that the \"location\" parameter should be a value\n",
    "# returned from the Locations API\n",
    "\n",
    "params = {\n",
    "  \"q\" : q,\n",
    "   \"location\":l,\n",
    "    \"hl\" : \"en\",\n",
    "\n",
    "}\n",
    "\n",
    "# retrieve the Google search results as JSON\n",
    "result_json = serpwow.get_json(params)\n",
    "print(l)\n",
    "     "
   ]
  },
  {
   "cell_type": "code",
   "execution_count": 7,
   "metadata": {},
   "outputs": [
    {
     "data": {
      "text/plain": [
       "[{'position': 1,\n",
       "  'title': 'Seva Medical Store',\n",
       "  'link': 'https://seva-medical-store.business.site/',\n",
       "  'address': '271/283/2, Bangur Avenue, Block-B,',\n",
       "  'data_cid': '13915545150265296789',\n",
       "  'extensions': ['Open', 'Closes 11PM', '+91 98365 09521'],\n",
       "  'type': 'Pharmacy',\n",
       "  'block_position': 1},\n",
       " {'position': 2,\n",
       "  'title': 'Frankross Pharmacy Bangur Avenue',\n",
       "  'link': 'https://www.frankrosspharmacy.com/',\n",
       "  'address': 'SHOP NO. G-5, 135, Bangur Ave +91 90731 90127',\n",
       "  'data_cid': '6356844915546219031',\n",
       "  'image': 'data:image/png;base64,iVBORw0KGgoAAAANSUhEUgAAADAAAAAwBAMAAAClLOS0AAAAIVBMVEUAAAAzplM0qFQ0qFM0qFM1qFM0qFQ1qlU0qFM0qFMwr1BfNzQuAAAAC3RSTlMAKGfn/2+PGK/XELDg06MAAABgSURBVHgB7cuxDUBQAEXRp6FnFSM8Ep0RFAZQGkTyZ7AlyWtvoZZ/+qMvql6sGVehwZM4eOZgb38L58GhuwqH28tBQa1dKEj7WyCkUEhJgJIAJQFKApQEKAlQEqAkqHoA3HYhBITCjCcAAAAASUVORK5CYII',\n",
       "  'type': 'Pharmacy',\n",
       "  'block_position': 1},\n",
       " {'position': 3,\n",
       "  'title': 'Apollo Pharmacy',\n",
       "  'link': 'https://www.apollo247.com/?utm_source=gmb&utm_medium=link&utm_campaign=id_13018',\n",
       "  'address': '112\\\\D',\n",
       "  'data_cid': '15592046740442290600',\n",
       "  'extensions': ['Open', 'Closes 11PM', '+91 33 2574 1882'],\n",
       "  'type': 'Pharmacy',\n",
       "  'block_position': 1}]"
      ]
     },
     "execution_count": 7,
     "metadata": {},
     "output_type": "execute_result"
    }
   ],
   "source": [
    "names=result_json['local_results']\n",
    "names"
   ]
  },
  {
   "cell_type": "code",
   "execution_count": 14,
   "metadata": {},
   "outputs": [
    {
     "name": "stdout",
     "output_type": "stream",
     "text": [
      "1\n",
      "0\n",
      "1\n"
     ]
    }
   ],
   "source": [
    "for name in names:\n",
    "    if 'extensions' not in name:\n",
    "        print('0')\n",
    "    else:\n",
    "        print('1')\n",
    "    "
   ]
  },
  {
   "cell_type": "code",
   "execution_count": null,
   "metadata": {},
   "outputs": [],
   "source": []
  }
 ],
 "metadata": {
  "kernelspec": {
   "display_name": "Python 3.7.4 64-bit",
   "language": "python",
   "name": "python37464bit942c60d0cc0e4cb09355ccf367753958"
  },
  "language_info": {
   "codemirror_mode": {
    "name": "ipython",
    "version": 3
   },
   "file_extension": ".py",
   "mimetype": "text/x-python",
   "name": "python",
   "nbconvert_exporter": "python",
   "pygments_lexer": "ipython3",
   "version": "3.7.4"
  }
 },
 "nbformat": 4,
 "nbformat_minor": 4
}
